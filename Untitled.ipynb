{
  "nbformat": 4,
  "nbformat_minor": 0,
  "metadata": {
    "colab": {
      "provenance": [],
      "authorship_tag": "ABX9TyMb011XgJ9ir1SuxcyTEB3y",
      "include_colab_link": true
    },
    "kernelspec": {
      "name": "python3",
      "display_name": "Python 3"
    },
    "language_info": {
      "name": "python"
    }
  },
  "cells": [
    {
      "cell_type": "markdown",
      "metadata": {
        "id": "view-in-github",
        "colab_type": "text"
      },
      "source": [
        "<a href=\"https://colab.research.google.com/github/Juliocww/aprendizagem-maquina/blob/develop/Untitled.ipynb\" target=\"_parent\"><img src=\"https://colab.research.google.com/assets/colab-badge.svg\" alt=\"Open In Colab\"/></a>"
      ]
    },
    {
      "cell_type": "code",
      "execution_count": null,
      "metadata": {
        "id": "iWsmtb7xje1s"
      },
      "outputs": [],
      "source": [
        "from sklearn.datasets import load_iris\n",
        "#from sklearn.model_selection import train_test_split\n",
        "from sklearn.ensemble import RandomForestClassifier\n",
        "\n",
        "# Carregar o dataset Iris\n",
        "iris = load_iris()\n",
        "\n",
        "#print (iris)\n",
        "\n",
        "\n",
        "X = iris.data  # Características\n",
        "y = iris.target  # Espécies (rótulos)\n",
        "nomes_especies = iris.target_names # Nomes das espécies\n",
        "\n",
        "#print (nomes_especies)\n",
        "\n",
        "\n",
        "# Dividir os dados em conjuntos de treinamento e teste\n",
        "#X_train, X_test, y_train, y_test = train_test_split(X, y, test_size=0.3, random_state=42)\n",
        "\n",
        "# Criar e treinar o modelo RandomForestClassifier\n",
        "modelo = RandomForestClassifier()\n",
        "modelo.fit(X, y)\n",
        "\n",
        "# Solicitar as medidas ao usuário\n",
        "sepal_length = float(input(\"Digite o comprimento da sépala (cm): \"))\n",
        "sepal_width = float(input(\"Digite a largura da sépala (cm): \"))\n",
        "petal_length = float(input(\"Digite o comprimento da pétala (cm): \"))\n",
        "petal_width = float(input(\"Digite a largura da pétala (cm): \"))\n",
        "\n",
        "sepal_length2 = float(input(\"Digite o comprimento da sépala (cm): \"))\n",
        "sepal_width2 = float(input(\"Digite a largura da sépala (cm): \"))\n",
        "petal_length2 = float(input(\"Digite o comprimento da pétala (cm): \"))\n",
        "petal_width2 = float(input(\"Digite a largura da pétala (cm): \"))\n",
        "\n",
        "\n",
        "# Fazer a predição\n",
        "nova_flor = [[sepal_length, sepal_width, petal_length, petal_width],[sepal_length2, sepal_width2, petal_length2, petal_width21]]\n",
        "predicao = modelo.predict(nova_flor)\n",
        "\n",
        "# Imprimir o resultado\n",
        "print (predicao)\n",
        "print(f\"A flor provavelmente é uma {nomes_especies[predicao[0]]} e {nomes_especies[predicao[1]]}\")"
      ]
    }
  ]
}